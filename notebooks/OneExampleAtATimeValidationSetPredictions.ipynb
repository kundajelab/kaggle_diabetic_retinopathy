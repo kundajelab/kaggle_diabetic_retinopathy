{
 "cells": [
  {
   "cell_type": "code",
   "execution_count": 1,
   "metadata": {
    "collapsed": false,
    "scrolled": false
   },
   "outputs": [
    {
     "name": "stderr",
     "output_type": "stream",
     "text": [
      "Using gpu device 0: GeForce GTX TITAN X (CNMeM is disabled)\n"
     ]
    }
   ],
   "source": [
    "import sys\n",
    "sys.path.append('../')\n",
    "import pickle\n",
    "import re\n",
    "import glob\n",
    "import os\n",
    "\n",
    "import time\n",
    "\n",
    "import theano\n",
    "import theano.tensor as T\n",
    "import numpy as np\n",
    "import pandas as p\n",
    "import lasagne as nn\n",
    "\n",
    "from utils import hms, architecture_string, get_img_ids_from_iter"
   ]
  },
  {
   "cell_type": "code",
   "execution_count": 2,
   "metadata": {
    "collapsed": false
   },
   "outputs": [
    {
     "name": "stdout",
     "output_type": "stream",
     "text": [
      "gcc (Ubuntu 4.8.5-4ubuntu8~16.04.1) 4.8.5\r\n",
      "Copyright (C) 2015 Free Software Foundation, Inc.\r\n",
      "This is free software; see the source for copying conditions.  There is NO\r\n",
      "warranty; not even for MERCHANTABILITY or FITNESS FOR A PARTICULAR PURPOSE.\r\n",
      "\r\n"
     ]
    }
   ],
   "source": [
    "!gcc --version"
   ]
  },
  {
   "cell_type": "code",
   "execution_count": 3,
   "metadata": {
    "collapsed": false
   },
   "outputs": [
    {
     "name": "stdout",
     "output_type": "stream",
     "text": [
      "/usr/local/cuda-7.0/bin/nvcc\r\n"
     ]
    }
   ],
   "source": [
    "!which nvcc"
   ]
  },
  {
   "cell_type": "code",
   "execution_count": 4,
   "metadata": {
    "collapsed": false
   },
   "outputs": [
    {
     "name": "stdout",
     "output_type": "stream",
     "text": [
      "Python 2.7.16 :: Anaconda, Inc.\r\n"
     ]
    }
   ],
   "source": [
    "!python --version"
   ]
  },
  {
   "cell_type": "code",
   "execution_count": 4,
   "metadata": {
    "collapsed": false
   },
   "outputs": [
    {
     "name": "stdout",
     "output_type": "stream",
     "text": [
      "fatal: destination path 'Theano' already exists and is not an empty directory.\n",
      "/users/avanti/kaggle_diabetic_retinopathy/notebooks/Theano\n",
      "HEAD is now at 9a653e3... Merge pull request #3150 from caglar/theano_shared_zero2\n",
      "\u001b[33mDEPRECATION: Python 2.7 will reach the end of its life on January 1st, 2020. Please upgrade your Python as Python 2.7 won't be maintained after that date. A future version of pip will drop support for Python 2.7.\u001b[0m\n",
      "Processing /users/avanti/kaggle_diabetic_retinopathy/notebooks/Theano\n",
      "Requirement already satisfied: numpy>=1.6.2 in /users/avanti/anaconda3/envs/py2diabeticretinopathy/lib/python2.7/site-packages (from Theano==0.7.0) (1.12.1)\n",
      "Requirement already satisfied: scipy>=0.11 in /users/avanti/anaconda3/envs/py2diabeticretinopathy/lib/python2.7/site-packages (from Theano==0.7.0) (1.2.2)\n",
      "Requirement already satisfied: six>=1.9.0 in /users/avanti/anaconda3/envs/py2diabeticretinopathy/lib/python2.7/site-packages (from Theano==0.7.0) (1.12.0)\n",
      "Building wheels for collected packages: Theano\n",
      "  Building wheel for Theano (setup.py) ... \u001b[?25ldone\n",
      "\u001b[?25h  Stored in directory: /tmp/pip-ephem-wheel-cache-88DvGn/wheels/2e/80/ce/e61c44e4fc9a975b404057b2fe01224d2ea79dec59f36d64ec\n",
      "Successfully built Theano\n",
      "Installing collected packages: Theano\n",
      "  Found existing installation: Theano 0.7.0\n",
      "    Uninstalling Theano-0.7.0:\n",
      "      Successfully uninstalled Theano-0.7.0\n",
      "Successfully installed Theano-0.7.0\n",
      "/users/avanti/kaggle_diabetic_retinopathy/notebooks\n"
     ]
    }
   ],
   "source": [
    "!git clone https://github.com/Theano/Theano\n",
    "%cd Theano\n",
    "!git checkout 9a653e3e91c0e38b6643e4452199931e792a24a2\n",
    "!pip install .\n",
    "%cd .."
   ]
  },
  {
   "cell_type": "code",
   "execution_count": 5,
   "metadata": {
    "collapsed": false
   },
   "outputs": [
    {
     "name": "stdout",
     "output_type": "stream",
     "text": [
      "fatal: destination path 'Lasagne' already exists and is not an empty directory.\n",
      "/users/avanti/kaggle_diabetic_retinopathy/notebooks/Lasagne\n",
      "HEAD is now at cf1a23c... Merge pull request #278 from skaae/add_embedding_doc\n",
      "\u001b[33mDEPRECATION: Python 2.7 will reach the end of its life on January 1st, 2020. Please upgrade your Python as Python 2.7 won't be maintained after that date. A future version of pip will drop support for Python 2.7.\u001b[0m\n",
      "Processing /users/avanti/kaggle_diabetic_retinopathy/notebooks/Lasagne\n",
      "Requirement already satisfied: numpy in /users/avanti/anaconda3/envs/py2diabeticretinopathy/lib/python2.7/site-packages (from Lasagne==0.1.dev0) (1.12.1)\n",
      "Requirement already satisfied: Theano in /users/avanti/anaconda3/envs/py2diabeticretinopathy/lib/python2.7/site-packages (from Lasagne==0.1.dev0) (0.7.0)\n",
      "Requirement already satisfied: scipy>=0.11 in /users/avanti/anaconda3/envs/py2diabeticretinopathy/lib/python2.7/site-packages (from Theano->Lasagne==0.1.dev0) (1.2.2)\n",
      "Requirement already satisfied: six>=1.9.0 in /users/avanti/anaconda3/envs/py2diabeticretinopathy/lib/python2.7/site-packages (from Theano->Lasagne==0.1.dev0) (1.12.0)\n",
      "Building wheels for collected packages: Lasagne\n",
      "  Building wheel for Lasagne (setup.py) ... \u001b[?25ldone\n",
      "\u001b[?25h  Stored in directory: /tmp/pip-ephem-wheel-cache-NQqxkB/wheels/41/17/42/bed688d24ee7c4d3f5638aa526295c91eba55d8d3aec20e9b1\n",
      "Successfully built Lasagne\n",
      "Installing collected packages: Lasagne\n",
      "  Found existing installation: Lasagne 0.1.dev0\n",
      "    Uninstalling Lasagne-0.1.dev0:\n",
      "      Successfully uninstalled Lasagne-0.1.dev0\n",
      "Successfully installed Lasagne-0.1.dev0\n",
      "/users/avanti/kaggle_diabetic_retinopathy/notebooks\n"
     ]
    }
   ],
   "source": [
    "!git clone https://github.com/Lasagne/Lasagne\n",
    "%cd Lasagne\n",
    "!git checkout cf1a23c21666fc0225a05d284134b255e3613335\n",
    "!pip install .\n",
    "%cd .."
   ]
  },
  {
   "cell_type": "code",
   "execution_count": 5,
   "metadata": {
    "collapsed": false,
    "scrolled": false
   },
   "outputs": [
    {
     "name": "stdout",
     "output_type": "stream",
     "text": [
      "WARNING: The conda.compat module is deprecated and will be removed in a future release.\n",
      "# packages in environment at /users/avanti/anaconda3/envs/py2diabeticretinopathy:\n",
      "#\n",
      "# Name                    Version                   Build  Channel\n",
      "_libgcc_mutex             0.1                        main  \n",
      "attrs                     19.1.0                   py27_1  \n",
      "backports                 1.0                        py_2  \n",
      "backports.shutil_get_terminal_size 1.0.0                    py27_2  \n",
      "backports_abc             0.5                        py_0  \n",
      "blas                      1.0                         mkl  \n",
      "bleach                    3.1.0                    py27_0  \n",
      "ca-certificates           2019.5.15                     0  \n",
      "cairo                     1.12.18                       0  \n",
      "certifi                   2019.6.16                py27_1  \n",
      "configparser              3.7.4                    py27_0  \n",
      "cycler                    0.10.0                   py27_0  \n",
      "cython                    0.17                     pypi_0    pypi\n",
      "dateutil                  2.4.1                    py27_0  \n",
      "dbus                      1.13.6               h746ee38_0  \n",
      "decorator                 4.4.0                    py27_1  \n",
      "defusedxml                0.6.0                      py_0  \n",
      "entrypoints               0.3                      py27_0  \n",
      "enum34                    1.1.6                    py27_1  \n",
      "expat                     2.2.6                he6710b0_0  \n",
      "freetype                  2.4.10                        0  \n",
      "functools32               3.2.3.2                  py27_1  \n",
      "futures                   3.3.0                    py27_0  \n",
      "glib                      2.56.2               hd408876_0  \n",
      "gmp                       6.1.2                h6c8ec71_1  \n",
      "gst-plugins-base          1.14.0               hbbd80ab_1  \n",
      "gstreamer                 1.14.0               hb453b48_1  \n",
      "icu                       54.1                          0  \n",
      "intel-openmp              2019.4                      243  \n",
      "ipaddress                 1.0.22                   py27_0  \n",
      "ipython                   3.0.0                    py27_0  \n",
      "ipython_genutils          0.2.0                    py27_0  \n",
      "jbig                      2.1                  hdba287a_0    anaconda\n",
      "jinja2                    2.10.1                   py27_0  \n",
      "jpeg                      8d                            2    anaconda\n",
      "jsonschema                3.0.1                    py27_0  \n",
      "jupyter_core              4.5.0                      py_0  \n",
      "lasagne                   0.1.dev0                 pypi_0    pypi\n",
      "libedit                   3.1.20181209         hc058e9b_0  \n",
      "libffi                    3.2.1                hd88cf55_4  \n",
      "libgcc                    7.2.0                h69d50b8_2  \n",
      "libgcc-ng                 9.1.0                hdf63c60_0  \n",
      "libgfortran               1.0                           0  \n",
      "libgfortran-ng            7.3.0                hdf63c60_0  \n",
      "libpng                    1.5.13                        1  \n",
      "libsodium                 1.0.16               h1bed415_0    anaconda\n",
      "libstdcxx-ng              9.1.0                hdf63c60_0  \n",
      "libtiff                   4.0.6                         2    anaconda\n",
      "libuuid                   1.0.3                h1bed415_2  \n",
      "libxcb                    1.13                 h1bed415_1  \n",
      "libxml2                   2.9.9                hea5a465_1  \n",
      "markupsafe                1.1.1            py27h7b6447c_0  \n",
      "matplotlib                1.4.2                np19py27_0  \n",
      "mistune                   0.8.4            py27h7b6447c_0  \n",
      "mkl                       2018.0.3                      1  \n",
      "nbconvert                 5.5.0                      py_0  \n",
      "nbformat                  4.4.0                    py27_0  \n",
      "ncurses                   6.1                  he6710b0_1  \n",
      "nose                      1.3.7                    py27_2  \n",
      "numpy                     1.9.2                    pypi_0    pypi\n",
      "openssl                   1.1.1c               h7b6447c_1  \n",
      "pandas                    0.15.2               np19py27_1  \n",
      "pandoc                    2.2.3.2                       0  \n",
      "pandocfilters             1.4.2                    py27_1  \n",
      "pathlib2                  2.3.4                    py27_0  \n",
      "pcre                      8.43                 he6710b0_0  \n",
      "pexpect                   4.7.0                    py27_0  \n",
      "pickleshare               0.7.5                    py27_0  \n",
      "pillow                    2.7.0                    py27_0  \n",
      "pip                       19.1.1                   py27_0  \n",
      "pixman                    0.26.2                        0  \n",
      "prometheus_client         0.7.1                      py_0  \n",
      "prompt_toolkit            1.0.15                   py27_0  \n",
      "ptyprocess                0.6.0                    py27_0  \n",
      "py2cairo                  1.10.0                   py27_2  \n",
      "pycairo                   1.10.0                   py27_0  \n",
      "pygments                  2.4.2                      py_0  \n",
      "pyparsing                 2.0.1                    py27_0  \n",
      "pyqt                      4.10.4                   py27_0  \n",
      "pyrsistent                0.14.11          py27h7b6447c_0  \n",
      "python                    2.7.16               h9bab390_0  \n",
      "python-dateutil           2.8.0                    py27_0  \n",
      "pytz                      2019.2                   pypi_0    pypi\n",
      "pyzmq                     18.0.2                   pypi_0    pypi\n",
      "qt                        4.8.5                         0  \n",
      "readline                  7.0                  h7b6447c_5  \n",
      "scandir                   1.10.0           py27h7b6447c_0  \n",
      "scikit-image              0.10.1               np19py27_0  \n",
      "scikit-learn              0.16.0               np19py27_0  \n",
      "scipy                     1.2.2                    pypi_0    pypi\n",
      "send2trash                1.5.0                    py27_0  \n",
      "setuptools                41.0.1                   py27_0  \n",
      "simplegeneric             0.8.1                    py27_2  \n",
      "singledispatch            3.4.0.3                  py27_0  \n",
      "sip                       4.15.5                   py27_0  \n",
      "six                       1.12.0                   pypi_0    pypi\n",
      "sqlite                    3.29.0               h7b6447c_0  \n",
      "ssl_match_hostname        3.7.0.1                  py27_0  \n",
      "subprocess32              3.5.4            py27h7b6447c_0  \n",
      "testpath                  0.4.2                    py27_0  \n",
      "theano                    0.7.0                    pypi_0    pypi\n",
      "tk                        8.6.8                hbc83047_0  \n",
      "tornado                   4.5.3                    py27_0  \n",
      "traitlets                 4.3.2                    py27_0  \n",
      "wcwidth                   0.1.7                    py27_0  \n",
      "webencodings              0.5.1                    py27_1  \n",
      "wheel                     0.33.4                   py27_0  \n",
      "xz                        5.2.4                h14c3975_4  \n",
      "zeromq                    4.3.1                he6710b0_3    anaconda\n",
      "zlib                      1.2.11               h7b6447c_3  \n"
     ]
    }
   ],
   "source": [
    "!conda list"
   ]
  },
  {
   "cell_type": "code",
   "execution_count": 6,
   "metadata": {
    "collapsed": false
   },
   "outputs": [
    {
     "name": "stdout",
     "output_type": "stream",
     "text": [
      "Populating the interactive namespace from numpy and matplotlib\n"
     ]
    }
   ],
   "source": [
    "%pylab inline\n",
    "\n",
    "rcParams['figure.figsize'] = 16, 6"
   ]
  },
  {
   "cell_type": "code",
   "execution_count": 7,
   "metadata": {
    "collapsed": true
   },
   "outputs": [],
   "source": [
    "np.set_printoptions(precision=3)\n",
    "np.set_printoptions(suppress=True)"
   ]
  },
  {
   "cell_type": "markdown",
   "metadata": {},
   "source": [
    "First we load the dump of the trained network."
   ]
  },
  {
   "cell_type": "code",
   "execution_count": 8,
   "metadata": {
    "collapsed": true
   },
   "outputs": [],
   "source": [
    "dump_path = '../dumps/2015_07_17_123003.pkl'"
   ]
  },
  {
   "cell_type": "code",
   "execution_count": 9,
   "metadata": {
    "collapsed": true
   },
   "outputs": [],
   "source": [
    "model_data = pickle.load(open(dump_path, 'r'))"
   ]
  },
  {
   "cell_type": "code",
   "execution_count": 10,
   "metadata": {
    "collapsed": true
   },
   "outputs": [],
   "source": [
    "# Let's set the in and output layers to some local vars.\n",
    "l_out = model_data['l_out']\n",
    "l_ins = model_data['l_ins']"
   ]
  },
  {
   "cell_type": "markdown",
   "metadata": {},
   "source": [
    "Some info about the architecture of the model:"
   ]
  },
  {
   "cell_type": "code",
   "execution_count": 11,
   "metadata": {
    "collapsed": false
   },
   "outputs": [
    {
     "name": "stdout",
     "output_type": "stream",
     "text": [
      "   0  InputLayer                   (64, 3, 512, 512)  \n",
      "   1  Conv2DDNNLayer               (64, 32, 256, 256)  7 //2\n",
      "   2  MaxPool2DDNNLayer            (64, 32, 127, 127)  3 //2\n",
      "   3  Conv2DDNNLayer               (64, 32, 127, 127)  3 //1\n",
      "   4  Conv2DDNNLayer               (64, 32, 127, 127)  3 //1\n",
      "   5  MaxPool2DDNNLayer            (64, 32, 63, 63)  3 //2\n",
      "   6  Conv2DDNNLayer               (64, 64, 63, 63)  3 //1\n",
      "   7  Conv2DDNNLayer               (64, 64, 63, 63)  3 //1\n",
      "   8  MaxPool2DDNNLayer            (64, 64, 31, 31)  3 //2\n",
      "   9  Conv2DDNNLayer               (64, 128, 31, 31)  3 //1\n",
      "  10  Conv2DDNNLayer               (64, 128, 31, 31)  3 //1\n",
      "  11  Conv2DDNNLayer               (64, 128, 31, 31)  3 //1\n",
      "  12  Conv2DDNNLayer               (64, 128, 31, 31)  3 //1\n",
      "  13  MaxPool2DDNNLayer            (64, 128, 15, 15)  3 //2\n",
      "  14  Conv2DDNNLayer               (64, 256, 15, 15)  3 //1\n",
      "  15  Conv2DDNNLayer               (64, 256, 15, 15)  3 //1\n",
      "  16  Conv2DDNNLayer               (64, 256, 15, 15)  3 //1\n",
      "  17  Conv2DDNNLayer               (64, 256, 15, 15)  3 //1\n",
      "  18  MaxPool2DDNNLayer            (64, 256, 7, 7)  3 //2\n",
      "  19  DropoutLayer                 (64, 256, 7, 7)   [0.50]\n",
      "  20  DenseLayer                   (64, 1024)  \n",
      "  21  FeaturePoolLayer             (64, 512)  2 //\n",
      "  22  InputLayer                   (64, 2)  \n",
      "  23  ConcatLayer                  (64, 514)  \n",
      "  24  ReshapeLayer                 (32, 1028)  \n",
      "  25  DropoutLayer                 (32, 1028)   [0.50]\n",
      "  26  DenseLayer                   (32, 1024)  \n",
      "  27  FeaturePoolLayer             (32, 512)  2 //\n",
      "  28  DropoutLayer                 (32, 512)   [0.50]\n",
      "  29  DenseLayer                   (32, 10)  \n",
      "  30  ReshapeLayer                 (64, 5)  \n",
      "  31  ApplyNonlinearity            (64, 5)  \n",
      "\n",
      "Number of parameters: 20923690.\n",
      "\n",
      "\n"
     ]
    },
    {
     "name": "stderr",
     "output_type": "stream",
     "text": [
      "/users/avanti/anaconda3/envs/py2diabeticretinopathy/lib/python2.7/site-packages/lasagne/layers/helper.py:69: UserWarning: get_all_layers() has been changed to return layers in topological order. The former implementation is still available as get_all_layers_old(), but will be removed before the first release of Lasagne. To ignore this warning, use `warnings.filterwarnings('ignore', '.*topo.*')`.\n",
      "  warnings.warn(\"get_all_layers() has been changed to return layers in \"\n"
     ]
    }
   ],
   "source": [
    "model_arch = architecture_string(model_data['l_out'])\n",
    "\n",
    "num_params = nn.layers.count_params(l_out)\n",
    "model_arch += \"\\nNumber of parameters: %d.\\n\\n\" % num_params\n",
    "print(model_arch)"
   ]
  },
  {
   "cell_type": "markdown",
   "metadata": {},
   "source": [
    "Setting up some Theano / Lasagne things to get some predictions."
   ]
  },
  {
   "cell_type": "code",
   "execution_count": 12,
   "metadata": {
    "collapsed": false
   },
   "outputs": [
    {
     "name": "stdout",
     "output_type": "stream",
     "text": [
      "Batch size: 64.\n",
      "Chunk size: 256.\n"
     ]
    }
   ],
   "source": [
    "chunk_size = model_data['chunk_size'] * 2\n",
    "batch_size = model_data['batch_size']\n",
    "\n",
    "print \"Batch size: %i.\" % batch_size\n",
    "print \"Chunk size: %i.\" % chunk_size"
   ]
  },
  {
   "cell_type": "code",
   "execution_count": 13,
   "metadata": {
    "collapsed": true,
    "scrolled": false
   },
   "outputs": [],
   "source": [
    "output = nn.layers.get_output(l_out, deterministic=True)\n",
    "nondeterministic_output = nn.layers.get_output(l_out, deterministic=False)\n",
    "input_ndims = [len(nn.layers.get_output_shape(l_in))\n",
    "               for l_in in l_ins]\n",
    "xs_shared = [nn.utils.shared_empty(dim=ndim)\n",
    "             for ndim in input_ndims]\n",
    "idx = T.lscalar('idx')\n",
    "\n",
    "givens = {}\n",
    "for l_in, x_shared in zip(l_ins, xs_shared):\n",
    "    givens[l_in.input_var] = x_shared[idx * batch_size:(idx + 1) * batch_size]\n",
    "\n",
    "compute_output = theano.function(\n",
    "    [idx],\n",
    "    output,\n",
    "    givens=givens,\n",
    "    on_unused_input='ignore'\n",
    ")\n",
    "\n",
    "compute_nondeterministic_output = theano.function(\n",
    "    [idx],\n",
    "    nondeterministic_output,\n",
    "    givens=givens,\n",
    "    on_unused_input='ignore'\n",
    ")"
   ]
  },
  {
   "cell_type": "code",
   "execution_count": 14,
   "metadata": {
    "collapsed": true
   },
   "outputs": [],
   "source": [
    "compute_output2 = theano.function(\n",
    "    [x.input_var for x in l_ins],\n",
    "    output,\n",
    "    on_unused_input='ignore')"
   ]
  },
  {
   "cell_type": "code",
   "execution_count": 15,
   "metadata": {
    "collapsed": true
   },
   "outputs": [],
   "source": [
    "compute_nondeterministic_output2 = theano.function(\n",
    "    [x.input_var for x in l_ins],\n",
    "    nondeterministic_output,\n",
    "    on_unused_input='ignore')"
   ]
  },
  {
   "cell_type": "code",
   "execution_count": 16,
   "metadata": {
    "collapsed": true
   },
   "outputs": [],
   "source": [
    "train_labels = p.read_csv(os.path.join('/srv/scratch/avanti/diabetic_retinopathy/trainLabels.csv'))"
   ]
  },
  {
   "cell_type": "code",
   "execution_count": 17,
   "metadata": {
    "collapsed": false
   },
   "outputs": [
    {
     "data": {
      "text/html": [
       "<div style=\"max-height:1000px;max-width:1500px;overflow:auto;\">\n",
       "<table border=\"1\" class=\"dataframe\">\n",
       "  <thead>\n",
       "    <tr style=\"text-align: right;\">\n",
       "      <th></th>\n",
       "      <th>image</th>\n",
       "      <th>level</th>\n",
       "    </tr>\n",
       "  </thead>\n",
       "  <tbody>\n",
       "    <tr>\n",
       "      <th>0    </th>\n",
       "      <td>     10_left</td>\n",
       "      <td> 0</td>\n",
       "    </tr>\n",
       "    <tr>\n",
       "      <th>1    </th>\n",
       "      <td>    10_right</td>\n",
       "      <td> 0</td>\n",
       "    </tr>\n",
       "    <tr>\n",
       "      <th>2    </th>\n",
       "      <td>     13_left</td>\n",
       "      <td> 0</td>\n",
       "    </tr>\n",
       "    <tr>\n",
       "      <th>3    </th>\n",
       "      <td>    13_right</td>\n",
       "      <td> 0</td>\n",
       "    </tr>\n",
       "    <tr>\n",
       "      <th>4    </th>\n",
       "      <td>     15_left</td>\n",
       "      <td> 1</td>\n",
       "    </tr>\n",
       "    <tr>\n",
       "      <th>5    </th>\n",
       "      <td>    15_right</td>\n",
       "      <td> 2</td>\n",
       "    </tr>\n",
       "    <tr>\n",
       "      <th>6    </th>\n",
       "      <td>     16_left</td>\n",
       "      <td> 4</td>\n",
       "    </tr>\n",
       "    <tr>\n",
       "      <th>7    </th>\n",
       "      <td>    16_right</td>\n",
       "      <td> 4</td>\n",
       "    </tr>\n",
       "    <tr>\n",
       "      <th>8    </th>\n",
       "      <td>     17_left</td>\n",
       "      <td> 0</td>\n",
       "    </tr>\n",
       "    <tr>\n",
       "      <th>9    </th>\n",
       "      <td>    17_right</td>\n",
       "      <td> 1</td>\n",
       "    </tr>\n",
       "    <tr>\n",
       "      <th>10   </th>\n",
       "      <td>     19_left</td>\n",
       "      <td> 0</td>\n",
       "    </tr>\n",
       "    <tr>\n",
       "      <th>11   </th>\n",
       "      <td>    19_right</td>\n",
       "      <td> 0</td>\n",
       "    </tr>\n",
       "    <tr>\n",
       "      <th>12   </th>\n",
       "      <td>     20_left</td>\n",
       "      <td> 0</td>\n",
       "    </tr>\n",
       "    <tr>\n",
       "      <th>13   </th>\n",
       "      <td>    20_right</td>\n",
       "      <td> 0</td>\n",
       "    </tr>\n",
       "    <tr>\n",
       "      <th>14   </th>\n",
       "      <td>     21_left</td>\n",
       "      <td> 0</td>\n",
       "    </tr>\n",
       "    <tr>\n",
       "      <th>15   </th>\n",
       "      <td>    21_right</td>\n",
       "      <td> 0</td>\n",
       "    </tr>\n",
       "    <tr>\n",
       "      <th>16   </th>\n",
       "      <td>     22_left</td>\n",
       "      <td> 0</td>\n",
       "    </tr>\n",
       "    <tr>\n",
       "      <th>17   </th>\n",
       "      <td>    22_right</td>\n",
       "      <td> 0</td>\n",
       "    </tr>\n",
       "    <tr>\n",
       "      <th>18   </th>\n",
       "      <td>     23_left</td>\n",
       "      <td> 0</td>\n",
       "    </tr>\n",
       "    <tr>\n",
       "      <th>19   </th>\n",
       "      <td>    23_right</td>\n",
       "      <td> 0</td>\n",
       "    </tr>\n",
       "    <tr>\n",
       "      <th>20   </th>\n",
       "      <td>     25_left</td>\n",
       "      <td> 0</td>\n",
       "    </tr>\n",
       "    <tr>\n",
       "      <th>21   </th>\n",
       "      <td>    25_right</td>\n",
       "      <td> 0</td>\n",
       "    </tr>\n",
       "    <tr>\n",
       "      <th>22   </th>\n",
       "      <td>     30_left</td>\n",
       "      <td> 1</td>\n",
       "    </tr>\n",
       "    <tr>\n",
       "      <th>23   </th>\n",
       "      <td>    30_right</td>\n",
       "      <td> 2</td>\n",
       "    </tr>\n",
       "    <tr>\n",
       "      <th>24   </th>\n",
       "      <td>     31_left</td>\n",
       "      <td> 0</td>\n",
       "    </tr>\n",
       "    <tr>\n",
       "      <th>25   </th>\n",
       "      <td>    31_right</td>\n",
       "      <td> 0</td>\n",
       "    </tr>\n",
       "    <tr>\n",
       "      <th>26   </th>\n",
       "      <td>     33_left</td>\n",
       "      <td> 0</td>\n",
       "    </tr>\n",
       "    <tr>\n",
       "      <th>27   </th>\n",
       "      <td>    33_right</td>\n",
       "      <td> 0</td>\n",
       "    </tr>\n",
       "    <tr>\n",
       "      <th>28   </th>\n",
       "      <td>     36_left</td>\n",
       "      <td> 1</td>\n",
       "    </tr>\n",
       "    <tr>\n",
       "      <th>29   </th>\n",
       "      <td>    36_right</td>\n",
       "      <td> 0</td>\n",
       "    </tr>\n",
       "    <tr>\n",
       "      <th>...</th>\n",
       "      <td>...</td>\n",
       "      <td>...</td>\n",
       "    </tr>\n",
       "    <tr>\n",
       "      <th>35096</th>\n",
       "      <td>  44317_left</td>\n",
       "      <td> 0</td>\n",
       "    </tr>\n",
       "    <tr>\n",
       "      <th>35097</th>\n",
       "      <td> 44317_right</td>\n",
       "      <td> 0</td>\n",
       "    </tr>\n",
       "    <tr>\n",
       "      <th>35098</th>\n",
       "      <td>  44323_left</td>\n",
       "      <td> 1</td>\n",
       "    </tr>\n",
       "    <tr>\n",
       "      <th>35099</th>\n",
       "      <td> 44323_right</td>\n",
       "      <td> 1</td>\n",
       "    </tr>\n",
       "    <tr>\n",
       "      <th>35100</th>\n",
       "      <td>  44325_left</td>\n",
       "      <td> 0</td>\n",
       "    </tr>\n",
       "    <tr>\n",
       "      <th>35101</th>\n",
       "      <td> 44325_right</td>\n",
       "      <td> 0</td>\n",
       "    </tr>\n",
       "    <tr>\n",
       "      <th>35102</th>\n",
       "      <td>  44327_left</td>\n",
       "      <td> 0</td>\n",
       "    </tr>\n",
       "    <tr>\n",
       "      <th>35103</th>\n",
       "      <td> 44327_right</td>\n",
       "      <td> 0</td>\n",
       "    </tr>\n",
       "    <tr>\n",
       "      <th>35104</th>\n",
       "      <td>  44328_left</td>\n",
       "      <td> 0</td>\n",
       "    </tr>\n",
       "    <tr>\n",
       "      <th>35105</th>\n",
       "      <td> 44328_right</td>\n",
       "      <td> 1</td>\n",
       "    </tr>\n",
       "    <tr>\n",
       "      <th>35106</th>\n",
       "      <td>  44330_left</td>\n",
       "      <td> 0</td>\n",
       "    </tr>\n",
       "    <tr>\n",
       "      <th>35107</th>\n",
       "      <td> 44330_right</td>\n",
       "      <td> 0</td>\n",
       "    </tr>\n",
       "    <tr>\n",
       "      <th>35108</th>\n",
       "      <td>  44331_left</td>\n",
       "      <td> 0</td>\n",
       "    </tr>\n",
       "    <tr>\n",
       "      <th>35109</th>\n",
       "      <td> 44331_right</td>\n",
       "      <td> 0</td>\n",
       "    </tr>\n",
       "    <tr>\n",
       "      <th>35110</th>\n",
       "      <td>  44334_left</td>\n",
       "      <td> 0</td>\n",
       "    </tr>\n",
       "    <tr>\n",
       "      <th>35111</th>\n",
       "      <td> 44334_right</td>\n",
       "      <td> 0</td>\n",
       "    </tr>\n",
       "    <tr>\n",
       "      <th>35112</th>\n",
       "      <td>  44337_left</td>\n",
       "      <td> 1</td>\n",
       "    </tr>\n",
       "    <tr>\n",
       "      <th>35113</th>\n",
       "      <td> 44337_right</td>\n",
       "      <td> 0</td>\n",
       "    </tr>\n",
       "    <tr>\n",
       "      <th>35114</th>\n",
       "      <td>  44338_left</td>\n",
       "      <td> 0</td>\n",
       "    </tr>\n",
       "    <tr>\n",
       "      <th>35115</th>\n",
       "      <td> 44338_right</td>\n",
       "      <td> 0</td>\n",
       "    </tr>\n",
       "    <tr>\n",
       "      <th>35116</th>\n",
       "      <td>  44339_left</td>\n",
       "      <td> 0</td>\n",
       "    </tr>\n",
       "    <tr>\n",
       "      <th>35117</th>\n",
       "      <td> 44339_right</td>\n",
       "      <td> 0</td>\n",
       "    </tr>\n",
       "    <tr>\n",
       "      <th>35118</th>\n",
       "      <td>  44343_left</td>\n",
       "      <td> 0</td>\n",
       "    </tr>\n",
       "    <tr>\n",
       "      <th>35119</th>\n",
       "      <td> 44343_right</td>\n",
       "      <td> 0</td>\n",
       "    </tr>\n",
       "    <tr>\n",
       "      <th>35120</th>\n",
       "      <td>  44347_left</td>\n",
       "      <td> 0</td>\n",
       "    </tr>\n",
       "    <tr>\n",
       "      <th>35121</th>\n",
       "      <td> 44347_right</td>\n",
       "      <td> 0</td>\n",
       "    </tr>\n",
       "    <tr>\n",
       "      <th>35122</th>\n",
       "      <td>  44348_left</td>\n",
       "      <td> 0</td>\n",
       "    </tr>\n",
       "    <tr>\n",
       "      <th>35123</th>\n",
       "      <td> 44348_right</td>\n",
       "      <td> 0</td>\n",
       "    </tr>\n",
       "    <tr>\n",
       "      <th>35124</th>\n",
       "      <td>  44349_left</td>\n",
       "      <td> 0</td>\n",
       "    </tr>\n",
       "    <tr>\n",
       "      <th>35125</th>\n",
       "      <td> 44349_right</td>\n",
       "      <td> 1</td>\n",
       "    </tr>\n",
       "  </tbody>\n",
       "</table>\n",
       "<p>35126 rows × 2 columns</p>\n",
       "</div>"
      ],
      "text/plain": [
       "             image  level\n",
       "0          10_left      0\n",
       "1         10_right      0\n",
       "2          13_left      0\n",
       "3         13_right      0\n",
       "4          15_left      1\n",
       "5         15_right      2\n",
       "6          16_left      4\n",
       "7         16_right      4\n",
       "8          17_left      0\n",
       "9         17_right      1\n",
       "10         19_left      0\n",
       "11        19_right      0\n",
       "12         20_left      0\n",
       "13        20_right      0\n",
       "14         21_left      0\n",
       "15        21_right      0\n",
       "16         22_left      0\n",
       "17        22_right      0\n",
       "18         23_left      0\n",
       "19        23_right      0\n",
       "20         25_left      0\n",
       "21        25_right      0\n",
       "22         30_left      1\n",
       "23        30_right      2\n",
       "24         31_left      0\n",
       "25        31_right      0\n",
       "26         33_left      0\n",
       "27        33_right      0\n",
       "28         36_left      1\n",
       "29        36_right      0\n",
       "...            ...    ...\n",
       "35096   44317_left      0\n",
       "35097  44317_right      0\n",
       "35098   44323_left      1\n",
       "35099  44323_right      1\n",
       "35100   44325_left      0\n",
       "35101  44325_right      0\n",
       "35102   44327_left      0\n",
       "35103  44327_right      0\n",
       "35104   44328_left      0\n",
       "35105  44328_right      1\n",
       "35106   44330_left      0\n",
       "35107  44330_right      0\n",
       "35108   44331_left      0\n",
       "35109  44331_right      0\n",
       "35110   44334_left      0\n",
       "35111  44334_right      0\n",
       "35112   44337_left      1\n",
       "35113  44337_right      0\n",
       "35114   44338_left      0\n",
       "35115  44338_right      0\n",
       "35116   44339_left      0\n",
       "35117  44339_right      0\n",
       "35118   44343_left      0\n",
       "35119  44343_right      0\n",
       "35120   44347_left      0\n",
       "35121  44347_right      0\n",
       "35122   44348_left      0\n",
       "35123  44348_right      0\n",
       "35124   44349_left      0\n",
       "35125  44349_right      1\n",
       "\n",
       "[35126 rows x 2 columns]"
      ]
     },
     "execution_count": 17,
     "metadata": {},
     "output_type": "execute_result"
    }
   ],
   "source": [
    "train_labels"
   ]
  },
  {
   "cell_type": "code",
   "execution_count": 18,
   "metadata": {
    "collapsed": true
   },
   "outputs": [],
   "source": [
    "paired_transfos=True"
   ]
  },
  {
   "cell_type": "markdown",
   "metadata": {},
   "source": [
    "The validation set is a specific subset of the training set, so load the train labels"
   ]
  },
  {
   "cell_type": "code",
   "execution_count": 19,
   "metadata": {
    "collapsed": true
   },
   "outputs": [],
   "source": [
    "image_to_label = dict(zip(train_labels.image, train_labels.level))\n",
    "new_dataloader_params = model_data['data_loader_params']\n",
    "train_image_ids = set(new_dataloader_params['images_train_0'])\n",
    "# Get validation set ids\n",
    "all_patient_ids = sorted(set(get_img_ids_from_iter(train_labels.image)))\n",
    "valid_patient_ids = [patient_id for patient_id in all_patient_ids\n",
    "                     if patient_id not in train_image_ids]"
   ]
  },
  {
   "cell_type": "code",
   "execution_count": 20,
   "metadata": {
    "collapsed": false
   },
   "outputs": [
    {
     "data": {
      "text/plain": [
       "[19,\n",
       " 52,\n",
       " 58,\n",
       " 60,\n",
       " 74,\n",
       " 81,\n",
       " 122,\n",
       " 164,\n",
       " 194,\n",
       " 195,\n",
       " 218,\n",
       " 224,\n",
       " 239,\n",
       " 242,\n",
       " 260,\n",
       " 311,\n",
       " 314,\n",
       " 343,\n",
       " 358,\n",
       " 360]"
      ]
     },
     "execution_count": 20,
     "metadata": {},
     "output_type": "execute_result"
    }
   ],
   "source": [
    "valid_patient_ids[:20]"
   ]
  },
  {
   "cell_type": "code",
   "execution_count": 21,
   "metadata": {
    "collapsed": true
   },
   "outputs": [],
   "source": [
    "valid_patient_ids_labels = [image_to_label[str(patient_id)+\"_\"+side]\n",
    "                            for patient_id in valid_patient_ids\n",
    "                            for side in [\"left\",\"right\"]]"
   ]
  },
  {
   "cell_type": "code",
   "execution_count": 22,
   "metadata": {
    "collapsed": false
   },
   "outputs": [
    {
     "data": {
      "text/plain": [
       "3514"
      ]
     },
     "execution_count": 22,
     "metadata": {},
     "output_type": "execute_result"
    }
   ],
   "source": [
    "len(valid_patient_ids_labels)"
   ]
  },
  {
   "cell_type": "code",
   "execution_count": 23,
   "metadata": {
    "collapsed": true
   },
   "outputs": [],
   "source": [
    "valid_labels_fh = open(\"valid_labels.txt\",'w')\n",
    "for patient_id in valid_patient_ids:\n",
    "    for side in [\"left\", \"right\"]:\n",
    "        patient_id_and_side = str(patient_id)+\"_\"+side\n",
    "        valid_labels_fh.write(\n",
    "            patient_id_and_side+\"\\t\"+\n",
    "            \"\\t\".join(str(image_to_label[patient_id_and_side])+\"\\n\"))\n",
    "valid_labels_fh.close()\n",
    "!gzip -f valid_labels.txt"
   ]
  },
  {
   "cell_type": "code",
   "execution_count": 24,
   "metadata": {
    "collapsed": true
   },
   "outputs": [],
   "source": [
    "num_chunks = int(np.ceil((2 * len(valid_patient_ids)) / float(chunk_size)))"
   ]
  },
  {
   "cell_type": "code",
   "execution_count": 25,
   "metadata": {
    "collapsed": false
   },
   "outputs": [
    {
     "data": {
      "text/plain": [
       "14"
      ]
     },
     "execution_count": 25,
     "metadata": {},
     "output_type": "execute_result"
    }
   ],
   "source": [
    "num_chunks"
   ]
  },
  {
   "cell_type": "code",
   "execution_count": 26,
   "metadata": {
    "collapsed": true
   },
   "outputs": [],
   "source": [
    "# Where all the images are located: \n",
    "# it looks for [img_dir]/[patient_id]_[left or right].jpeg\n",
    "img_dir = '/srv/scratch/avanti/diabetic_retinopathy/unzipped_train_ds2_crop/'"
   ]
  },
  {
   "cell_type": "markdown",
   "metadata": {},
   "source": [
    "Using the DataLoader to set up the parameters, you could replace it with something much simpler."
   ]
  },
  {
   "cell_type": "code",
   "execution_count": 27,
   "metadata": {
    "collapsed": true
   },
   "outputs": [],
   "source": [
    "from generators import DataLoader"
   ]
  },
  {
   "cell_type": "code",
   "execution_count": 28,
   "metadata": {
    "collapsed": true
   },
   "outputs": [],
   "source": [
    "data_loader = DataLoader()\n",
    "#new_dataloader_params.update({'images_test': patient_ids})\n",
    "#new_dataloader_params.update({'labels_test': train_labels.level.values})\n",
    "new_dataloader_params.update({'prefix_train': img_dir})\n",
    "data_loader.set_params(new_dataloader_params)"
   ]
  },
  {
   "cell_type": "code",
   "execution_count": 29,
   "metadata": {
    "collapsed": true
   },
   "outputs": [],
   "source": [
    "def do_pred(test_gen, deterministic):\n",
    "    outputs = []\n",
    "\n",
    "    for e, (xs_chunk, chunk_shape, chunk_length) in enumerate(test_gen()):\n",
    "        num_batches_chunk = int(np.ceil(chunk_length / float(batch_size)))\n",
    "\n",
    "        print \"Chunk %i/%i\" % (e + 1, num_chunks)\n",
    "\n",
    "        print \"  load data onto GPU\"\n",
    "        for x_shared, x_chunk in zip(xs_shared, xs_chunk):\n",
    "            x_shared.set_value(x_chunk)\n",
    "\n",
    "        print \"  compute output in batches\"\n",
    "        outputs_chunk = []\n",
    "        for b in xrange(num_batches_chunk):\n",
    "            if (deterministic):\n",
    "                out = compute_output(b)\n",
    "            else:\n",
    "                out = compute_nondeterministic_output(b)\n",
    "            outputs_chunk.append(out)\n",
    "\n",
    "        outputs_chunk = np.vstack(outputs_chunk)\n",
    "        outputs_chunk = outputs_chunk[:chunk_length]\n",
    "\n",
    "        outputs.append(outputs_chunk)\n",
    "\n",
    "    return np.vstack(outputs), xs_chunk"
   ]
  },
  {
   "cell_type": "code",
   "execution_count": 30,
   "metadata": {
    "collapsed": true
   },
   "outputs": [],
   "source": [
    "from generators import patches_gen_fixed_pairs\n",
    "\n",
    "\n",
    "def create_fixed_gen(data_loader, images, chunk_size,\n",
    "                     prefix_train, prefix_test,\n",
    "                     transfo_params=None,\n",
    "                     paired_transfos=paired_transfos):\n",
    "\n",
    "    if not transfo_params:\n",
    "        raise ValueError(\"Need transfo_params for gen!\")\n",
    "\n",
    "    gen = patches_gen_fixed_pairs(\n",
    "            images, p_x=data_loader.p_x,\n",
    "            p_y=data_loader.p_y,\n",
    "            num_channels=data_loader.num_channels,\n",
    "            chunk_size=chunk_size,\n",
    "            prefix_train=prefix_train,\n",
    "            prefix_test=prefix_test,\n",
    "            transfo_params=transfo_params,\n",
    "            paired_transfos=paired_transfos)\n",
    "\n",
    "    def fixed_gen():\n",
    "        for chunk_x, chunk_dim, chunk_shape, chunk_length in gen:\n",
    "            yield [(chunk_x - data_loader.zmuv_mean) /\n",
    "                   (0.05 + data_loader.zmuv_std),\n",
    "                   chunk_dim], chunk_shape, chunk_length\n",
    "    return fixed_gen()"
   ]
  },
  {
   "cell_type": "code",
   "execution_count": 31,
   "metadata": {
    "collapsed": false
   },
   "outputs": [
    {
     "name": "stdout",
     "output_type": "stream",
     "text": [
      "Doing deterministic predictions\n",
      "Chunk 1/14\n",
      "  load data onto GPU\n",
      "  compute output in batches\n"
     ]
    },
    {
     "ename": "KeyboardInterrupt",
     "evalue": "",
     "output_type": "error",
     "traceback": [
      "\u001b[1;31m---------------------------------------------------------------------------\u001b[0m",
      "\u001b[1;31mKeyboardInterrupt\u001b[0m                         Traceback (most recent call last)",
      "\u001b[1;32m<ipython-input-31-833bbcc68263>\u001b[0m in \u001b[0;36m<module>\u001b[1;34m()\u001b[0m\n\u001b[0;32m     63\u001b[0m     \u001b[0msys\u001b[0m\u001b[1;33m.\u001b[0m\u001b[0mstdout\u001b[0m\u001b[1;33m.\u001b[0m\u001b[0mflush\u001b[0m\u001b[1;33m(\u001b[0m\u001b[1;33m)\u001b[0m\u001b[1;33m\u001b[0m\u001b[0m\n\u001b[0;32m     64\u001b[0m     pred_outputs, chunk_orig = do_pred(test_gen=data_generator,\n\u001b[1;32m---> 65\u001b[1;33m                                        deterministic=True)\n\u001b[0m\u001b[0;32m     66\u001b[0m     \"\"\"output_file = transfo_string_summary+\"/deterministic_preds.txt\"\n\u001b[0;32m     67\u001b[0m     \u001b[0moutput_fh\u001b[0m \u001b[1;33m=\u001b[0m \u001b[0mopen\u001b[0m\u001b[1;33m(\u001b[0m\u001b[0moutput_file\u001b[0m\u001b[1;33m,\u001b[0m\u001b[1;34m'w'\u001b[0m\u001b[1;33m)\u001b[0m\u001b[1;33m\u001b[0m\u001b[0m\n",
      "\u001b[1;32m<ipython-input-29-845ab0542823>\u001b[0m in \u001b[0;36mdo_pred\u001b[1;34m(test_gen, deterministic)\u001b[0m\n\u001b[0;32m      2\u001b[0m     \u001b[0moutputs\u001b[0m \u001b[1;33m=\u001b[0m \u001b[1;33m[\u001b[0m\u001b[1;33m]\u001b[0m\u001b[1;33m\u001b[0m\u001b[0m\n\u001b[0;32m      3\u001b[0m \u001b[1;33m\u001b[0m\u001b[0m\n\u001b[1;32m----> 4\u001b[1;33m     \u001b[1;32mfor\u001b[0m \u001b[0me\u001b[0m\u001b[1;33m,\u001b[0m \u001b[1;33m(\u001b[0m\u001b[0mxs_chunk\u001b[0m\u001b[1;33m,\u001b[0m \u001b[0mchunk_shape\u001b[0m\u001b[1;33m,\u001b[0m \u001b[0mchunk_length\u001b[0m\u001b[1;33m)\u001b[0m \u001b[1;32min\u001b[0m \u001b[0menumerate\u001b[0m\u001b[1;33m(\u001b[0m\u001b[0mtest_gen\u001b[0m\u001b[1;33m(\u001b[0m\u001b[1;33m)\u001b[0m\u001b[1;33m)\u001b[0m\u001b[1;33m:\u001b[0m\u001b[1;33m\u001b[0m\u001b[0m\n\u001b[0m\u001b[0;32m      5\u001b[0m         \u001b[0mnum_batches_chunk\u001b[0m \u001b[1;33m=\u001b[0m \u001b[0mint\u001b[0m\u001b[1;33m(\u001b[0m\u001b[0mnp\u001b[0m\u001b[1;33m.\u001b[0m\u001b[0mceil\u001b[0m\u001b[1;33m(\u001b[0m\u001b[0mchunk_length\u001b[0m \u001b[1;33m/\u001b[0m \u001b[0mfloat\u001b[0m\u001b[1;33m(\u001b[0m\u001b[0mbatch_size\u001b[0m\u001b[1;33m)\u001b[0m\u001b[1;33m)\u001b[0m\u001b[1;33m)\u001b[0m\u001b[1;33m\u001b[0m\u001b[0m\n\u001b[0;32m      6\u001b[0m \u001b[1;33m\u001b[0m\u001b[0m\n",
      "\u001b[1;32m<ipython-input-30-83697e189088>\u001b[0m in \u001b[0;36mfixed_gen\u001b[1;34m()\u001b[0m\n\u001b[0;32m     21\u001b[0m \u001b[1;33m\u001b[0m\u001b[0m\n\u001b[0;32m     22\u001b[0m     \u001b[1;32mdef\u001b[0m \u001b[0mfixed_gen\u001b[0m\u001b[1;33m(\u001b[0m\u001b[1;33m)\u001b[0m\u001b[1;33m:\u001b[0m\u001b[1;33m\u001b[0m\u001b[0m\n\u001b[1;32m---> 23\u001b[1;33m         \u001b[1;32mfor\u001b[0m \u001b[0mchunk_x\u001b[0m\u001b[1;33m,\u001b[0m \u001b[0mchunk_dim\u001b[0m\u001b[1;33m,\u001b[0m \u001b[0mchunk_shape\u001b[0m\u001b[1;33m,\u001b[0m \u001b[0mchunk_length\u001b[0m \u001b[1;32min\u001b[0m \u001b[0mgen\u001b[0m\u001b[1;33m:\u001b[0m\u001b[1;33m\u001b[0m\u001b[0m\n\u001b[0m\u001b[0;32m     24\u001b[0m             yield [(chunk_x - data_loader.zmuv_mean) /\n\u001b[0;32m     25\u001b[0m                    \u001b[1;33m(\u001b[0m\u001b[1;36m0.05\u001b[0m \u001b[1;33m+\u001b[0m \u001b[0mdata_loader\u001b[0m\u001b[1;33m.\u001b[0m\u001b[0mzmuv_std\u001b[0m\u001b[1;33m)\u001b[0m\u001b[1;33m,\u001b[0m\u001b[1;33m\u001b[0m\u001b[0m\n",
      "\u001b[1;32m/users/avanti/kaggle_diabetic_retinopathy/generators.pyc\u001b[0m in \u001b[0;36mpatches_gen_fixed_pairs\u001b[1;34m(images, p_x, p_y, num_channels, chunk_size, prefix_train, prefix_test, transfo_params, paired_transfos)\u001b[0m\n\u001b[0;32m    469\u001b[0m                 \u001b[0mprefix_path\u001b[0m\u001b[1;33m=\u001b[0m\u001b[0mprefix_path\u001b[0m\u001b[1;33m,\u001b[0m\u001b[1;33m\u001b[0m\u001b[0m\n\u001b[0;32m    470\u001b[0m                 \u001b[0mtransfo_params\u001b[0m\u001b[1;33m=\u001b[0m\u001b[0mtransfo_params\u001b[0m\u001b[1;33m,\u001b[0m\u001b[1;33m\u001b[0m\u001b[0m\n\u001b[1;32m--> 471\u001b[1;33m                 rand_values=chosen_values if paired_transfos else None)\n\u001b[0m\u001b[0;32m    472\u001b[0m \u001b[1;33m\u001b[0m\u001b[0m\n\u001b[0;32m    473\u001b[0m             \u001b[0mchunk_shape\u001b[0m\u001b[1;33m[\u001b[0m\u001b[1;36m2\u001b[0m \u001b[1;33m*\u001b[0m \u001b[0mk\u001b[0m \u001b[1;33m+\u001b[0m \u001b[1;36m1\u001b[0m\u001b[1;33m]\u001b[0m \u001b[1;33m=\u001b[0m \u001b[0mchunk_x\u001b[0m\u001b[1;33m[\u001b[0m\u001b[1;36m2\u001b[0m \u001b[1;33m*\u001b[0m \u001b[0mk\u001b[0m \u001b[1;33m+\u001b[0m \u001b[1;36m1\u001b[0m\u001b[1;33m]\u001b[0m\u001b[1;33m.\u001b[0m\u001b[0mshape\u001b[0m\u001b[1;33m\u001b[0m\u001b[0m\n",
      "\u001b[1;32m/users/avanti/kaggle_diabetic_retinopathy/generators.pyc\u001b[0m in \u001b[0;36mload_image_and_process\u001b[1;34m(im, im_dst, dim_dst, output_shape, prefix_path, transfo_params, rand_values)\u001b[0m\n\u001b[0;32m    179\u001b[0m                            pad=transfo_params['resize_pad'])\n\u001b[0;32m    180\u001b[0m     \u001b[1;32melse\u001b[0m\u001b[1;33m:\u001b[0m\u001b[1;33m\u001b[0m\u001b[0m\n\u001b[1;32m--> 181\u001b[1;33m         \u001b[0mim_new\u001b[0m \u001b[1;33m=\u001b[0m \u001b[0mim_new\u001b[0m\u001b[1;33m.\u001b[0m\u001b[0mresize\u001b[0m\u001b[1;33m(\u001b[0m\u001b[0moutput_shape\u001b[0m\u001b[1;33m,\u001b[0m \u001b[0mresample\u001b[0m\u001b[1;33m=\u001b[0m\u001b[0mImage\u001b[0m\u001b[1;33m.\u001b[0m\u001b[0mBILINEAR\u001b[0m\u001b[1;33m)\u001b[0m\u001b[1;33m\u001b[0m\u001b[0m\n\u001b[0m\u001b[0;32m    182\u001b[0m     \u001b[1;31m# im_new = im_new.resize(output_shape, resample=Image.BICUBIC)\u001b[0m\u001b[1;33m\u001b[0m\u001b[1;33m\u001b[0m\u001b[0m\n\u001b[0;32m    183\u001b[0m     \u001b[1;31m# im_new = im_new.resize(map(lambda x: int(x * 1.2), output_shape),\u001b[0m\u001b[1;33m\u001b[0m\u001b[1;33m\u001b[0m\u001b[0m\n",
      "\u001b[1;32m/users/avanti/anaconda3/envs/py2diabeticretinopathy/lib/python2.7/site-packages/PIL/Image.pyc\u001b[0m in \u001b[0;36mresize\u001b[1;34m(self, size, resample)\u001b[0m\n\u001b[0;32m   1546\u001b[0m             \u001b[1;32mreturn\u001b[0m \u001b[0mself\u001b[0m\u001b[1;33m.\u001b[0m\u001b[0mconvert\u001b[0m\u001b[1;33m(\u001b[0m\u001b[1;34m'RGBa'\u001b[0m\u001b[1;33m)\u001b[0m\u001b[1;33m.\u001b[0m\u001b[0mresize\u001b[0m\u001b[1;33m(\u001b[0m\u001b[0msize\u001b[0m\u001b[1;33m,\u001b[0m \u001b[0mresample\u001b[0m\u001b[1;33m)\u001b[0m\u001b[1;33m.\u001b[0m\u001b[0mconvert\u001b[0m\u001b[1;33m(\u001b[0m\u001b[1;34m'RGBA'\u001b[0m\u001b[1;33m)\u001b[0m\u001b[1;33m\u001b[0m\u001b[0m\n\u001b[0;32m   1547\u001b[0m \u001b[1;33m\u001b[0m\u001b[0m\n\u001b[1;32m-> 1548\u001b[1;33m         \u001b[1;32mreturn\u001b[0m \u001b[0mself\u001b[0m\u001b[1;33m.\u001b[0m\u001b[0m_new\u001b[0m\u001b[1;33m(\u001b[0m\u001b[0mself\u001b[0m\u001b[1;33m.\u001b[0m\u001b[0mim\u001b[0m\u001b[1;33m.\u001b[0m\u001b[0mresize\u001b[0m\u001b[1;33m(\u001b[0m\u001b[0msize\u001b[0m\u001b[1;33m,\u001b[0m \u001b[0mresample\u001b[0m\u001b[1;33m)\u001b[0m\u001b[1;33m)\u001b[0m\u001b[1;33m\u001b[0m\u001b[0m\n\u001b[0m\u001b[0;32m   1549\u001b[0m \u001b[1;33m\u001b[0m\u001b[0m\n\u001b[0;32m   1550\u001b[0m     \u001b[1;32mdef\u001b[0m \u001b[0mrotate\u001b[0m\u001b[1;33m(\u001b[0m\u001b[0mself\u001b[0m\u001b[1;33m,\u001b[0m \u001b[0mangle\u001b[0m\u001b[1;33m,\u001b[0m \u001b[0mresample\u001b[0m\u001b[1;33m=\u001b[0m\u001b[0mNEAREST\u001b[0m\u001b[1;33m,\u001b[0m \u001b[0mexpand\u001b[0m\u001b[1;33m=\u001b[0m\u001b[1;36m0\u001b[0m\u001b[1;33m)\u001b[0m\u001b[1;33m:\u001b[0m\u001b[1;33m\u001b[0m\u001b[0m\n",
      "\u001b[1;31mKeyboardInterrupt\u001b[0m: "
     ]
    }
   ],
   "source": [
    "no_transfo_params = model_data['data_loader_params']['no_transfo_params']\n",
    "\n",
    "transfo_param_sets = [\n",
    "    #{'flip': False,\n",
    "    # 'rotation_before_resize': True,\n",
    "    # 'rotation_range': (0,1)},\n",
    "    #{'flip': True,\n",
    "    # 'flip_prob': 1.0,\n",
    "    # 'rotation_before_resize': True,\n",
    "    # 'rotation_range': (0,1)},\n",
    "    #{'flip': False,\n",
    "    # 'rotation_before_resize': True,\n",
    "    # 'rotation_range': (90,91)},\n",
    "    #{'flip': True,\n",
    "    # 'flip_prob': 1.0,\n",
    "    # 'rotation_before_resize': True,\n",
    "    # 'rotation_range': (90,91)},\n",
    "    {'flip': False,\n",
    "     'rotation_before_resize': True,\n",
    "     'rotation_range': (180,181)},\n",
    "    {'flip': True,\n",
    "     'flip_prob': 1.0,\n",
    "     'rotation_before_resize': True,\n",
    "     'rotation_range': (180,181)},\n",
    "    {'flip': False,\n",
    "     'rotation_before_resize': True,\n",
    "     'rotation_range': (270,271)},\n",
    "    {'flip': True,\n",
    "     'flip_prob': 1.0,\n",
    "     'rotation_before_resize': True,\n",
    "     'rotation_range': (270,271)},\n",
    "]\n",
    "\n",
    "def print_predictions(output_fh, pred_outputs, patient_ids):\n",
    "    for i,patient_id in enumerate(patient_ids):\n",
    "        for side in ['left', 'right']:\n",
    "            if (side=='left'):\n",
    "                pred = pred_outputs[i*2]\n",
    "            else:\n",
    "                pred = pred_outputs[i*2 + 1]\n",
    "            output_fh.write(str(patient_id)+\"_\"+side+\"\\t\"\n",
    "                            +\"\\t\".join([str(x) for x in pred])+\"\\n\")\n",
    "\n",
    "for transfo_params in transfo_param_sets:\n",
    "    transfo_string_summary = (\n",
    "        \"flip-\"+str(transfo_params['flip'])\n",
    "        +\"_rotamt-\"+str(transfo_params['rotation_range'][0]))\n",
    "    #transfo_string_summary=\"notransfo\"\n",
    "    if (os.path.exists(transfo_string_summary)==False):\n",
    "        os.mkdir(transfo_string_summary)\n",
    "    full_transfo_params = {}\n",
    "    full_transfo_params.update(no_transfo_params)\n",
    "    full_transfo_params.update(transfo_params)\n",
    "    data_generator = lambda: create_fixed_gen(\n",
    "                        data_loader=data_loader,\n",
    "                        images=valid_patient_ids,\n",
    "                        chunk_size=chunk_size,\n",
    "                        prefix_train=img_dir,\n",
    "                        prefix_test=img_dir,\n",
    "                        transfo_params=full_transfo_params,\n",
    "                        paired_transfos=paired_transfos)\n",
    "    print(\"Doing deterministic predictions\")\n",
    "    sys.stdout.flush()\n",
    "    pred_outputs, chunk_orig = do_pred(test_gen=data_generator,\n",
    "                                       deterministic=True)\n",
    "    \"\"\"output_file = transfo_string_summary+\"/deterministic_preds.txt\"\n",
    "    output_fh = open(output_file,'w')\n",
    "    print_predictions(output_fh=output_fh,\n",
    "                      pred_outputs=pred_outputs,\n",
    "                      patient_ids=valid_patient_ids)\n",
    "    output_fh.close()\"\"\"\n",
    "    for nondeterministic_run in range(100):\n",
    "        print(\"nondet run\",nondeterministic_run)\n",
    "        sys.stdout.flush()\n",
    "        pred_outputs, chunk_orig = do_pred(test_gen=data_generator,\n",
    "                                           deterministic=False)\n",
    "        \"\"\"output_file = (transfo_string_summary+\n",
    "                       \"/nondeterministic_preds_\"\n",
    "                       +str(nondeterministic_run)+\".txt\")\n",
    "        output_fh = open(output_file,'w')\n",
    "        print_predictions(output_fh=output_fh,\n",
    "                          pred_outputs=pred_outputs,\n",
    "                          patient_ids=valid_patient_ids)\"\"\"\n",
    "        output_fh.close()"
   ]
  },
  {
   "cell_type": "code",
   "execution_count": 32,
   "metadata": {
    "collapsed": true
   },
   "outputs": [],
   "source": [
    "thegen = data_generator()"
   ]
  },
  {
   "cell_type": "code",
   "execution_count": null,
   "metadata": {
    "collapsed": false
   },
   "outputs": [],
   "source": [
    "dat = thegen.next()\n",
    "print(\"hi\")"
   ]
  },
  {
   "cell_type": "code",
   "execution_count": null,
   "metadata": {
    "collapsed": false
   },
   "outputs": [],
   "source": [
    "from matplotlib import pyplot as plt\n",
    "\n",
    "plt.imshow(dat[0][0][0].transpose((2,1,0))[:,:,0])"
   ]
  },
  {
   "cell_type": "code",
   "execution_count": 58,
   "metadata": {
    "collapsed": false
   },
   "outputs": [
    {
     "data": {
      "text/plain": [
       "array([[   3.,  512.,  512.],\n",
       "       [   3.,  512.,  512.],\n",
       "       [   3.,  512.,  512.],\n",
       "       [   3.,  512.,  512.],\n",
       "       [   3.,  512.,  512.],\n",
       "       [   3.,  512.,  512.],\n",
       "       [   3.,  512.,  512.],\n",
       "       [   3.,  512.,  512.],\n",
       "       [   3.,  512.,  512.],\n",
       "       [   3.,  512.,  512.],\n",
       "       [   3.,  512.,  512.],\n",
       "       [   3.,  512.,  512.],\n",
       "       [   3.,  512.,  512.],\n",
       "       [   3.,  512.,  512.],\n",
       "       [   3.,  512.,  512.],\n",
       "       [   3.,  512.,  512.],\n",
       "       [   3.,  512.,  512.],\n",
       "       [   3.,  512.,  512.],\n",
       "       [   3.,  512.,  512.],\n",
       "       [   3.,  512.,  512.],\n",
       "       [   3.,  512.,  512.],\n",
       "       [   3.,  512.,  512.],\n",
       "       [   3.,  512.,  512.],\n",
       "       [   3.,  512.,  512.],\n",
       "       [   3.,  512.,  512.],\n",
       "       [   3.,  512.,  512.],\n",
       "       [   3.,  512.,  512.],\n",
       "       [   3.,  512.,  512.],\n",
       "       [   3.,  512.,  512.],\n",
       "       [   3.,  512.,  512.],\n",
       "       [   3.,  512.,  512.],\n",
       "       [   3.,  512.,  512.],\n",
       "       [   3.,  512.,  512.],\n",
       "       [   3.,  512.,  512.],\n",
       "       [   3.,  512.,  512.],\n",
       "       [   3.,  512.,  512.],\n",
       "       [   3.,  512.,  512.],\n",
       "       [   3.,  512.,  512.],\n",
       "       [   3.,  512.,  512.],\n",
       "       [   3.,  512.,  512.],\n",
       "       [   3.,  512.,  512.],\n",
       "       [   3.,  512.,  512.],\n",
       "       [   3.,  512.,  512.],\n",
       "       [   3.,  512.,  512.],\n",
       "       [   3.,  512.,  512.],\n",
       "       [   3.,  512.,  512.],\n",
       "       [   3.,  512.,  512.],\n",
       "       [   3.,  512.,  512.],\n",
       "       [   3.,  512.,  512.],\n",
       "       [   3.,  512.,  512.],\n",
       "       [   3.,  512.,  512.],\n",
       "       [   3.,  512.,  512.],\n",
       "       [   3.,  512.,  512.],\n",
       "       [   3.,  512.,  512.],\n",
       "       [   3.,  512.,  512.],\n",
       "       [   3.,  512.,  512.],\n",
       "       [   3.,  512.,  512.],\n",
       "       [   3.,  512.,  512.],\n",
       "       [   3.,  512.,  512.],\n",
       "       [   3.,  512.,  512.],\n",
       "       [   3.,  512.,  512.],\n",
       "       [   3.,  512.,  512.],\n",
       "       [   3.,  512.,  512.],\n",
       "       [   3.,  512.,  512.],\n",
       "       [   3.,  512.,  512.],\n",
       "       [   3.,  512.,  512.],\n",
       "       [   3.,  512.,  512.],\n",
       "       [   3.,  512.,  512.],\n",
       "       [   3.,  512.,  512.],\n",
       "       [   3.,  512.,  512.],\n",
       "       [   3.,  512.,  512.],\n",
       "       [   3.,  512.,  512.],\n",
       "       [   3.,  512.,  512.],\n",
       "       [   3.,  512.,  512.],\n",
       "       [   3.,  512.,  512.],\n",
       "       [   3.,  512.,  512.],\n",
       "       [   3.,  512.,  512.],\n",
       "       [   3.,  512.,  512.],\n",
       "       [   3.,  512.,  512.],\n",
       "       [   3.,  512.,  512.],\n",
       "       [   3.,  512.,  512.],\n",
       "       [   3.,  512.,  512.],\n",
       "       [   3.,  512.,  512.],\n",
       "       [   3.,  512.,  512.],\n",
       "       [   3.,  512.,  512.],\n",
       "       [   3.,  512.,  512.],\n",
       "       [   3.,  512.,  512.],\n",
       "       [   3.,  512.,  512.],\n",
       "       [   3.,  512.,  512.],\n",
       "       [   3.,  512.,  512.],\n",
       "       [   3.,  512.,  512.],\n",
       "       [   3.,  512.,  512.],\n",
       "       [   3.,  512.,  512.],\n",
       "       [   3.,  512.,  512.],\n",
       "       [   3.,  512.,  512.],\n",
       "       [   3.,  512.,  512.],\n",
       "       [   3.,  512.,  512.],\n",
       "       [   3.,  512.,  512.],\n",
       "       [   3.,  512.,  512.],\n",
       "       [   3.,  512.,  512.],\n",
       "       [   3.,  512.,  512.],\n",
       "       [   3.,  512.,  512.],\n",
       "       [   3.,  512.,  512.],\n",
       "       [   3.,  512.,  512.],\n",
       "       [   3.,  512.,  512.],\n",
       "       [   3.,  512.,  512.],\n",
       "       [   3.,  512.,  512.],\n",
       "       [   3.,  512.,  512.],\n",
       "       [   3.,  512.,  512.],\n",
       "       [   3.,  512.,  512.],\n",
       "       [   3.,  512.,  512.],\n",
       "       [   3.,  512.,  512.],\n",
       "       [   3.,  512.,  512.],\n",
       "       [   3.,  512.,  512.],\n",
       "       [   3.,  512.,  512.],\n",
       "       [   3.,  512.,  512.],\n",
       "       [   3.,  512.,  512.],\n",
       "       [   3.,  512.,  512.],\n",
       "       [   3.,  512.,  512.],\n",
       "       [   3.,  512.,  512.],\n",
       "       [   3.,  512.,  512.],\n",
       "       [   3.,  512.,  512.],\n",
       "       [   3.,  512.,  512.],\n",
       "       [   3.,  512.,  512.],\n",
       "       [   3.,  512.,  512.],\n",
       "       [   3.,  512.,  512.],\n",
       "       [   3.,  512.,  512.],\n",
       "       [   3.,  512.,  512.],\n",
       "       [   3.,  512.,  512.],\n",
       "       [   3.,  512.,  512.],\n",
       "       [   3.,  512.,  512.],\n",
       "       [   3.,  512.,  512.],\n",
       "       [   3.,  512.,  512.],\n",
       "       [   3.,  512.,  512.],\n",
       "       [   3.,  512.,  512.],\n",
       "       [   3.,  512.,  512.],\n",
       "       [   3.,  512.,  512.],\n",
       "       [   3.,  512.,  512.],\n",
       "       [   3.,  512.,  512.],\n",
       "       [   3.,  512.,  512.],\n",
       "       [   3.,  512.,  512.],\n",
       "       [   3.,  512.,  512.],\n",
       "       [   3.,  512.,  512.],\n",
       "       [   3.,  512.,  512.],\n",
       "       [   3.,  512.,  512.],\n",
       "       [   3.,  512.,  512.],\n",
       "       [   3.,  512.,  512.],\n",
       "       [   3.,  512.,  512.],\n",
       "       [   3.,  512.,  512.],\n",
       "       [   3.,  512.,  512.],\n",
       "       [   3.,  512.,  512.],\n",
       "       [   3.,  512.,  512.],\n",
       "       [   3.,  512.,  512.],\n",
       "       [   3.,  512.,  512.],\n",
       "       [   3.,  512.,  512.],\n",
       "       [   3.,  512.,  512.],\n",
       "       [   3.,  512.,  512.],\n",
       "       [   3.,  512.,  512.],\n",
       "       [   3.,  512.,  512.],\n",
       "       [   3.,  512.,  512.],\n",
       "       [   3.,  512.,  512.],\n",
       "       [   3.,  512.,  512.],\n",
       "       [   3.,  512.,  512.],\n",
       "       [   3.,  512.,  512.],\n",
       "       [   3.,  512.,  512.],\n",
       "       [   3.,  512.,  512.],\n",
       "       [   3.,  512.,  512.],\n",
       "       [   3.,  512.,  512.],\n",
       "       [   3.,  512.,  512.],\n",
       "       [   3.,  512.,  512.],\n",
       "       [   3.,  512.,  512.],\n",
       "       [   3.,  512.,  512.],\n",
       "       [   3.,  512.,  512.],\n",
       "       [   3.,  512.,  512.],\n",
       "       [   3.,  512.,  512.],\n",
       "       [   3.,  512.,  512.],\n",
       "       [   3.,  512.,  512.],\n",
       "       [   3.,  512.,  512.],\n",
       "       [   3.,  512.,  512.],\n",
       "       [   3.,  512.,  512.],\n",
       "       [   3.,  512.,  512.],\n",
       "       [   3.,  512.,  512.],\n",
       "       [   3.,  512.,  512.],\n",
       "       [   3.,  512.,  512.],\n",
       "       [   3.,  512.,  512.],\n",
       "       [   3.,  512.,  512.],\n",
       "       [   3.,  512.,  512.],\n",
       "       [   3.,  512.,  512.],\n",
       "       [   3.,  512.,  512.],\n",
       "       [   3.,  512.,  512.],\n",
       "       [   3.,  512.,  512.],\n",
       "       [   3.,  512.,  512.],\n",
       "       [   3.,  512.,  512.],\n",
       "       [   3.,  512.,  512.],\n",
       "       [   3.,  512.,  512.],\n",
       "       [   3.,  512.,  512.],\n",
       "       [   3.,  512.,  512.],\n",
       "       [   3.,  512.,  512.],\n",
       "       [   3.,  512.,  512.],\n",
       "       [   3.,  512.,  512.],\n",
       "       [   3.,  512.,  512.],\n",
       "       [   3.,  512.,  512.],\n",
       "       [   3.,  512.,  512.],\n",
       "       [   3.,  512.,  512.],\n",
       "       [   3.,  512.,  512.],\n",
       "       [   3.,  512.,  512.],\n",
       "       [   3.,  512.,  512.],\n",
       "       [   3.,  512.,  512.],\n",
       "       [   3.,  512.,  512.],\n",
       "       [   3.,  512.,  512.],\n",
       "       [   3.,  512.,  512.],\n",
       "       [   3.,  512.,  512.],\n",
       "       [   3.,  512.,  512.],\n",
       "       [   3.,  512.,  512.],\n",
       "       [   3.,  512.,  512.],\n",
       "       [   3.,  512.,  512.],\n",
       "       [   3.,  512.,  512.],\n",
       "       [   3.,  512.,  512.],\n",
       "       [   3.,  512.,  512.],\n",
       "       [   3.,  512.,  512.],\n",
       "       [   3.,  512.,  512.],\n",
       "       [   3.,  512.,  512.],\n",
       "       [   3.,  512.,  512.],\n",
       "       [   3.,  512.,  512.],\n",
       "       [   3.,  512.,  512.],\n",
       "       [   3.,  512.,  512.],\n",
       "       [   3.,  512.,  512.],\n",
       "       [   3.,  512.,  512.],\n",
       "       [   3.,  512.,  512.],\n",
       "       [   3.,  512.,  512.],\n",
       "       [   3.,  512.,  512.],\n",
       "       [   3.,  512.,  512.],\n",
       "       [   3.,  512.,  512.],\n",
       "       [   3.,  512.,  512.],\n",
       "       [   3.,  512.,  512.],\n",
       "       [   3.,  512.,  512.],\n",
       "       [   3.,  512.,  512.],\n",
       "       [   3.,  512.,  512.],\n",
       "       [   3.,  512.,  512.],\n",
       "       [   3.,  512.,  512.],\n",
       "       [   3.,  512.,  512.],\n",
       "       [   3.,  512.,  512.],\n",
       "       [   3.,  512.,  512.],\n",
       "       [   3.,  512.,  512.],\n",
       "       [   3.,  512.,  512.],\n",
       "       [   3.,  512.,  512.],\n",
       "       [   3.,  512.,  512.],\n",
       "       [   3.,  512.,  512.],\n",
       "       [   3.,  512.,  512.],\n",
       "       [   3.,  512.,  512.],\n",
       "       [   3.,  512.,  512.],\n",
       "       [   3.,  512.,  512.],\n",
       "       [   3.,  512.,  512.],\n",
       "       [   3.,  512.,  512.],\n",
       "       [   3.,  512.,  512.],\n",
       "       [   3.,  512.,  512.]], dtype=float32)"
      ]
     },
     "execution_count": 58,
     "metadata": {},
     "output_type": "execute_result"
    }
   ],
   "source": [
    "dat[1]"
   ]
  },
  {
   "cell_type": "code",
   "execution_count": null,
   "metadata": {
    "collapsed": true
   },
   "outputs": [],
   "source": []
  }
 ],
 "metadata": {
  "kernelspec": {
   "display_name": "Python 2",
   "language": "python",
   "name": "python2"
  },
  "language_info": {
   "codemirror_mode": {
    "name": "ipython",
    "version": 2
   },
   "file_extension": ".py",
   "mimetype": "text/x-python",
   "name": "python",
   "nbconvert_exporter": "python",
   "pygments_lexer": "ipython2",
   "version": "2.7.16"
  }
 },
 "nbformat": 4,
 "nbformat_minor": 1
}
