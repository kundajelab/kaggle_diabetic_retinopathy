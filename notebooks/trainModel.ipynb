{
 "cells": [
  {
   "cell_type": "code",
   "execution_count": 1,
   "metadata": {},
   "outputs": [
    {
     "name": "stderr",
     "output_type": "stream",
     "text": [
      "Using TensorFlow backend.\n"
     ]
    }
   ],
   "source": [
    "import os\n",
    "import pandas as p\n",
    "import keras\n",
    "from keras.models import Sequential\n",
    "from keras.layers import Dense, Activation, Flatten\n",
    "\n",
    "train_labels = p.read_csv(os.path.join('/mnt/lab_data2/amr1/diabetic_retinopathy/trainLabels.csv'))"
   ]
  },
  {
   "cell_type": "code",
   "execution_count": 2,
   "metadata": {},
   "outputs": [],
   "source": [
    "valid_ids = []\n",
    "for line in open(\"valid_ids.txt\"):\n",
    "    new_id = line.rstrip().split('.')[0]\n",
    "    valid_ids.append(new_id)"
   ]
  },
  {
   "cell_type": "code",
   "execution_count": 3,
   "metadata": {},
   "outputs": [],
   "source": [
    "image_to_label = dict(zip(train_labels.image, train_labels.level))\n",
    "train_ids = [patient_id for patient_id in image_to_label.keys()\n",
    "             if patient_id not in valid_ids]"
   ]
  },
  {
   "cell_type": "code",
   "execution_count": 4,
   "metadata": {},
   "outputs": [],
   "source": [
    "import numpy as np\n",
    "from PIL import ImageEnhance\n",
    "from PIL import Image, ImageChops, ImageOps\n",
    "\n",
    "def load_and_resize_image(image_path, output_shape,\n",
    "                          zmuv_mean, zmuv_std,\n",
    "                          transfo_params=None):\n",
    "    im = Image.open(image_path, mode='r')\n",
    "    sort_dim = list(np.sort(im.size))\n",
    "    dim_dst = [0, 0]\n",
    "    dim_dst[0] = sort_dim[1] / 700.0\n",
    "    dim_dst[1] = sort_dim[0] / 700.0\n",
    "    im_new = im\n",
    "    \n",
    "    # Dict to keep track of random values.\n",
    "    chosen_values = {}\n",
    "\n",
    "    if transfo_params.get('extra_width_crop', False):\n",
    "        w, h = im_new.size\n",
    "\n",
    "        if w / float(h) >= 1.3:\n",
    "            cols_thres = np.where(\n",
    "                np.max(\n",
    "                    np.max(\n",
    "                        np.asarray(im_new),\n",
    "                        axis=2),\n",
    "                    axis=0) > 35)[0]\n",
    "\n",
    "            # Extra cond compared to orig crop.\n",
    "            if len(cols_thres) > output_shape[0] // 2:\n",
    "                min_x, max_x = cols_thres[0], cols_thres[-1]\n",
    "            else:\n",
    "                min_x, max_x = 0, -1\n",
    "\n",
    "            im_new = im_new.crop((min_x, 0,\n",
    "                                  max_x, h))\n",
    "\n",
    "    if transfo_params.get('crop_height', False):\n",
    "        w, h = im_new.size\n",
    "\n",
    "        if w > 1 and 0.98 <= h / float(w) <= 1.02:\n",
    "            # \"Normal\" without height crop, do height crop.\n",
    "            im_new = im_new.crop((0, int(0.05 * h),\n",
    "                                  w, int(0.95 * h)))\n",
    "\n",
    "    if transfo_params.get('crop', False) and not \\\n",
    "            transfo_params.get('crop_after_rotation', False):\n",
    "        do_crop = transfo_params['crop_prob'] > np.random.rand()\n",
    "        chosen_values['do_crop'] = do_crop\n",
    "\n",
    "        if do_crop:\n",
    "            out_w, out_h = im_new.size\n",
    "            w_dev = int(transfo_params['crop_w'] * out_w)\n",
    "            h_dev = int(transfo_params['crop_h'] * out_h)\n",
    "            w0 = np.random.randint(0, w_dev + 1)\n",
    "            w1 = np.random.randint(0, w_dev + 1)\n",
    "            h0 = np.random.randint(0, h_dev + 1)\n",
    "            h1 = np.random.randint(0, h_dev + 1)\n",
    "\n",
    "            # Add params to dict.\n",
    "            chosen_values['w0'] = w0\n",
    "            chosen_values['w1'] = w1\n",
    "            chosen_values['h0'] = h0\n",
    "            chosen_values['h1'] = h1\n",
    "\n",
    "            im_new = im_new.crop((0 + w0, 0 + h0,\n",
    "                                  out_w - w1, out_h - h1))\n",
    "\n",
    "    if transfo_params.get('rotation_before_resize', False):\n",
    "        rotation_param = np.random.randint(\n",
    "                transfo_params['rotation_range'][0],\n",
    "                transfo_params['rotation_range'][1])\n",
    "        chosen_values['rotation_param'] = rotation_param\n",
    "\n",
    "        im_new = im_new.rotate(rotation_param, resample=Image.BILINEAR,\n",
    "                               expand=transfo_params.get('rotation_expand',\n",
    "                                                         False))\n",
    "        if transfo_params.get('rotation_expand',\n",
    "                              False):\n",
    "            im_new = im_new.crop(im_new.getbbox())\n",
    "\n",
    "    if transfo_params.get('crop_after_rotation', False):\n",
    "        do_crop = transfo_params['crop_prob'] > np.random.rand()\n",
    "        chosen_values['do_crop'] = do_crop\n",
    "\n",
    "        if do_crop:\n",
    "            out_w, out_h = im_new.size\n",
    "            w_dev = int(transfo_params['crop_w'] * out_w)\n",
    "            h_dev = int(transfo_params['crop_h'] * out_h)\n",
    "\n",
    "            w0 = np.random.randint(0, w_dev + 1)\n",
    "            w1 = np.random.randint(0, w_dev + 1)\n",
    "            h0 = np.random.randint(0, h_dev + 1)\n",
    "            h1 = np.random.randint(0, h_dev + 1)\n",
    "\n",
    "            # Add params to dict.\n",
    "            chosen_values['w0'] = w0\n",
    "            chosen_values['w1'] = w1\n",
    "            chosen_values['h0'] = h0\n",
    "            chosen_values['h1'] = h1\n",
    "\n",
    "            im_new = im_new.crop((0 + w0, 0 + h0,\n",
    "                                  out_w - w1, out_h - h1))\n",
    "\n",
    "    # im_new = im_new.thumbnail(output_shape, resample=Image.BILINEAR)\n",
    "    if transfo_params.get('keep_aspect_ratio', False):\n",
    "        im_new = make_thumb(im_new, size=output_shape,\n",
    "                           pad=transfo_params['resize_pad'])\n",
    "    else:\n",
    "        im_new = im_new.resize(output_shape, resample=Image.BILINEAR)\n",
    "    # im_new = im_new.resize(output_shape, resample=Image.BICUBIC)\n",
    "    # im_new = im_new.resize(map(lambda x: int(x * 1.2), output_shape),\n",
    "    # resample=Image.BICUBIC)\n",
    "    # im_new = im_new.crop(im_new.getbbox())\n",
    "\n",
    "    if transfo_params.get('rotation', False) \\\n",
    "            and not transfo_params.get('rotation_before_resize', False):\n",
    "        rotation_param = np.random.randint(\n",
    "                transfo_params['rotation_range'][0],\n",
    "                transfo_params['rotation_range'][1])\n",
    "        chosen_values['rotation_param'] = rotation_param\n",
    "\n",
    "        im_new = im_new.rotate(rotation_param, resample=Image.BILINEAR,\n",
    "                               expand=transfo_params.get('rotation_expand',\n",
    "                                                         False))\n",
    "        if transfo_params.get('rotation_expand',\n",
    "                              False):\n",
    "            im_new = im_new.crop(im_new.getbbox())\n",
    "\n",
    "    # im_new = im_new.resize(output_shape, resample=Image.BICUBIC)\n",
    "    if transfo_params.get('contrast', False):\n",
    "        contrast_min, contrast_max = transfo_params['contrast_range']\n",
    "        contrast_param = np.random.uniform(contrast_min, contrast_max)\n",
    "        chosen_values['contrast_param'] = contrast_param\n",
    "\n",
    "        im_new = ImageEnhance.Contrast(im_new).enhance(contrast_param)\n",
    "\n",
    "    if transfo_params.get('brightness', False):\n",
    "        brightness_min, brightness_max = transfo_params['brightness_range']\n",
    "        brightness_param = np.random.uniform(brightness_min,\n",
    "                                                 brightness_max)\n",
    "        chosen_values['brightness_param'] = brightness_param\n",
    "\n",
    "        im_new = ImageEnhance.Brightness(im_new).enhance(brightness_param)\n",
    "\n",
    "    if transfo_params.get('color', False):\n",
    "        color_min, color_max = transfo_params['color_range']\n",
    "        color_param = np.random.uniform(color_min, color_max)\n",
    "        chosen_values['color_param'] = color_param\n",
    "\n",
    "        im_new = ImageEnhance.Color(im_new).enhance(color_param)\n",
    "\n",
    "    if transfo_params.get('flip', False):\n",
    "        do_flip = transfo_params['flip_prob'] > np.random.rand()\n",
    "        chosen_values['do_flip'] = do_flip\n",
    "\n",
    "        if do_flip:\n",
    "            im_new = im_new.transpose(Image.FLIP_LEFT_RIGHT)\n",
    "\n",
    "    if output_shape[0] < 200 and False:\n",
    "        # Otherwise too slow.\n",
    "        # TODO: Disabled for now\n",
    "        if 'rotation' in transfo_params and transfo_params['rotation']:\n",
    "            rotation_param = np.random.randint(\n",
    "                    transfo_params['rotation_range'][0],\n",
    "                    transfo_params['rotation_range'][1])\n",
    "\n",
    "            im_new = im_new.rotate(rotation_param, resample=Image.BILINEAR,\n",
    "                                   expand=False)\n",
    "            # im_new = im_new.crop(im_new.getbbox())\n",
    "            chosen_values['rotation_param2'] = rotation_param\n",
    "\n",
    "    if transfo_params.get('zoom', False):\n",
    "        do_zoom = transfo_params['zoom_prob'] > np.random.rand()\n",
    "        chosen_values['do_zoom'] = do_zoom\n",
    "\n",
    "        if do_zoom:\n",
    "            zoom_min, zoom_max = transfo_params['zoom_range']\n",
    "            out_w, out_h = im_new.size\n",
    "            w_dev = int(np.random.uniform(zoom_min, zoom_max) / 2 * out_w)\n",
    "            chosen_values['w_dev'] = w_dev\n",
    "\n",
    "            im_new = im_new.crop((0 + w_dev,\n",
    "                                  0 + w_dev,\n",
    "                                  out_w - w_dev,\n",
    "                                  out_h - w_dev))\n",
    "    \n",
    "    \n",
    "    if im_new.size != output_shape:\n",
    "        im_new = im_new.resize(output_shape, resample=Image.BILINEAR)\n",
    "    im_new = np.asarray(im_new).astype('float32')/255  \n",
    "    im.close()\n",
    "    \n",
    "    im_new = (im_new - zmuv_mean)/(0.05 + zmuv_std)    \n",
    "    return im_new, dim_dst, chosen_values"
   ]
  },
  {
   "cell_type": "code",
   "execution_count": 5,
   "metadata": {},
   "outputs": [],
   "source": [
    "def get_image_batch_generator(image_paths, labels, batch_size, output_shape, zmuv_mean, zmuv_std):\n",
    "    transfo_params = {'rotation': True, 'rotation_range': (0, 360),\n",
    "                      'contrast': True, 'contrast_range': (0.7, 1.3),\n",
    "                      'brightness': True, 'brightness_range': (0.7, 1.3),\n",
    "                      'color': True, 'color_range': (0.7, 1.3),\n",
    "                      'flip': True, 'flip_prob': 0.5,\n",
    "                      'crop': True, 'crop_prob': 0.4,\n",
    "                      'crop_w': 0.03, 'crop_h': 0.04,\n",
    "                      'keep_aspect_ratio': False,\n",
    "                      'resize_pad': False,\n",
    "                      'zoom': True, 'zoom_prob': 0.5,\n",
    "                      'zoom_range': (0.00, 0.05),\n",
    "                      'paired_transfos': False,\n",
    "                      'rotation_expand': False,\n",
    "                      'crop_height': False,\n",
    "                      'extra_width_crop': True,\n",
    "                      'rotation_before_resize': False,\n",
    "                      'crop_after_rotation': True}\n",
    "    batch_idx = 0\n",
    "    while (batch_idx*batch_size < len(image_paths)):\n",
    "        image_batch = []\n",
    "        label_batch = []\n",
    "        for i in range(batch_size):\n",
    "            if ((batch_size*batch_idx + i) < len(image_paths)):\n",
    "                image_path = image_paths[batch_size*batch_idx + i]\n",
    "                im, dim, chosen = load_and_resize_image(image_path=image_path,\n",
    "                                                        output_shape=output_shape,\n",
    "                                                        zmuv_mean=zmuv_mean,\n",
    "                                                        zmuv_std=zmuv_std,\n",
    "                                                        transfo_params=transfo_params)\n",
    "                image_batch.append(im)\n",
    "                label_batch.append(keras.utils.to_categorical(labels[batch_size*batch_idx + i], num_classes=5))\n",
    "        yield [np.array(image_batch), np.array(label_batch)]\n",
    "        batch_idx += 1"
   ]
  },
  {
   "cell_type": "code",
   "execution_count": 6,
   "metadata": {},
   "outputs": [],
   "source": [
    "image_dir = \"/mnt/lab_data2/amr1/diabetic_retinopathy/unzipped_train_ds2_crop/\"\n",
    "valid_image_paths = []\n",
    "valid_image_labels = []\n",
    "for patient_id in valid_ids:\n",
    "    valid_image_paths.append(image_dir+str(patient_id)+\".jpeg\")\n",
    "    valid_image_labels.append(image_to_label[str(patient_id)])\n",
    "train_image_paths = []\n",
    "train_image_labels = []\n",
    "for patient_id in train_ids:\n",
    "    train_image_paths.append(image_dir+str(patient_id)+\".jpeg\")\n",
    "    train_image_labels.append(image_to_label[str(patient_id)])"
   ]
  },
  {
   "cell_type": "code",
   "execution_count": 7,
   "metadata": {},
   "outputs": [
    {
     "name": "stdout",
     "output_type": "stream",
     "text": [
      "batch idx 0\n"
     ]
    }
   ],
   "source": [
    "batch_size=8\n",
    "batch_generator = get_image_batch_generator(image_paths=train_image_paths,\n",
    "                                            labels=train_image_labels,\n",
    "                                            batch_size=batch_size,\n",
    "                                            output_shape=(512,512),\n",
    "                                            zmuv_mean=0.042,\n",
    "                                            zmuv_std=0.204)\n",
    "for idx,batch in enumerate(batch_generator):\n",
    "    print(\"batch idx\", idx)\n",
    "    break"
   ]
  },
  {
   "cell_type": "code",
   "execution_count": 8,
   "metadata": {},
   "outputs": [
    {
     "data": {
      "text/plain": [
       "(8, 512, 512, 3)"
      ]
     },
     "execution_count": 8,
     "metadata": {},
     "output_type": "execute_result"
    }
   ],
   "source": [
    "batch[0].shape"
   ]
  },
  {
   "cell_type": "code",
   "execution_count": 9,
   "metadata": {},
   "outputs": [],
   "source": [
    "validation_generator = get_image_batch_generator(image_paths=valid_image_paths,\n",
    "                                            labels=valid_image_labels,\n",
    "                                            batch_size=batch_size,\n",
    "                                            output_shape=(512,512),\n",
    "                                            zmuv_mean=0.042,\n",
    "                                            zmuv_std=0.204)"
   ]
  },
  {
   "cell_type": "code",
   "execution_count": 10,
   "metadata": {},
   "outputs": [
    {
     "name": "stdout",
     "output_type": "stream",
     "text": [
      "WARNING:tensorflow:From /users/amr1/miniconda3/envs/basepair/lib/python3.6/site-packages/keras/backend/tensorflow_backend.py:74: The name tf.get_default_graph is deprecated. Please use tf.compat.v1.get_default_graph instead.\n",
      "\n",
      "WARNING:tensorflow:From /users/amr1/miniconda3/envs/basepair/lib/python3.6/site-packages/keras/backend/tensorflow_backend.py:517: The name tf.placeholder is deprecated. Please use tf.compat.v1.placeholder instead.\n",
      "\n",
      "WARNING:tensorflow:From /users/amr1/miniconda3/envs/basepair/lib/python3.6/site-packages/keras/backend/tensorflow_backend.py:4138: The name tf.random_uniform is deprecated. Please use tf.random.uniform instead.\n",
      "\n"
     ]
    }
   ],
   "source": [
    "model = Sequential([\n",
    "    Flatten(input_shape=(512,512,3)),\n",
    "    Dense(5),\n",
    "    Activation('relu'),\n",
    "    Dense(5),\n",
    "    Activation('softmax'),\n",
    "])"
   ]
  },
  {
   "cell_type": "code",
   "execution_count": 11,
   "metadata": {},
   "outputs": [
    {
     "name": "stdout",
     "output_type": "stream",
     "text": [
      "WARNING:tensorflow:From /users/amr1/miniconda3/envs/basepair/lib/python3.6/site-packages/keras/optimizers.py:790: The name tf.train.Optimizer is deprecated. Please use tf.compat.v1.train.Optimizer instead.\n",
      "\n",
      "WARNING:tensorflow:From /users/amr1/miniconda3/envs/basepair/lib/python3.6/site-packages/keras/backend/tensorflow_backend.py:3295: The name tf.log is deprecated. Please use tf.math.log instead.\n",
      "\n"
     ]
    }
   ],
   "source": [
    "model.compile(loss='categorical_crossentropy', optimizer='adam', metrics=['accuracy'])"
   ]
  },
  {
   "cell_type": "code",
   "execution_count": 12,
   "metadata": {},
   "outputs": [
    {
     "name": "stdout",
     "output_type": "stream",
     "text": [
      "WARNING:tensorflow:From /users/amr1/miniconda3/envs/basepair/lib/python3.6/site-packages/tensorflow/python/ops/math_grad.py:1250: add_dispatch_support.<locals>.wrapper (from tensorflow.python.ops.array_ops) is deprecated and will be removed in a future version.\n",
      "Instructions for updating:\n",
      "Use tf.where in 2.0, which has the same broadcast rule as np.where\n",
      "WARNING:tensorflow:From /users/amr1/miniconda3/envs/basepair/lib/python3.6/site-packages/keras/backend/tensorflow_backend.py:986: The name tf.assign_add is deprecated. Please use tf.compat.v1.assign_add instead.\n",
      "\n",
      "Epoch 1/1\n",
      "3951/3951 [==============================] - 4024s 1s/step - loss: 4.2710 - acc: 0.7340 - val_loss: 4.3186 - val_acc: 0.7312\n"
     ]
    }
   ],
   "source": [
    "EPOCHS = 1\n",
    "H = model.fit_generator(generator=batch_generator,\n",
    "                        validation_data=validation_generator,\n",
    "                        steps_per_epoch=len(train_image_labels) // batch_size,\n",
    "                        validation_steps=len(valid_image_labels) // batch_size,\n",
    "                        epochs=EPOCHS)"
   ]
  }
 ],
 "metadata": {
  "kernelspec": {
   "display_name": "Python [conda env:basepair]",
   "language": "python",
   "name": "conda-env-basepair-py"
  },
  "language_info": {
   "codemirror_mode": {
    "name": "ipython",
    "version": 3
   },
   "file_extension": ".py",
   "mimetype": "text/x-python",
   "name": "python",
   "nbconvert_exporter": "python",
   "pygments_lexer": "ipython3",
   "version": "3.6.8"
  }
 },
 "nbformat": 4,
 "nbformat_minor": 4
}
